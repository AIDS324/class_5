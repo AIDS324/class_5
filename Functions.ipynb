{
 "cells": [
  {
   "cell_type": "markdown",
   "metadata": {},
   "source": [
    "# Functions"
   ]
  },
  {
   "cell_type": "code",
   "execution_count": 1,
   "metadata": {},
   "outputs": [],
   "source": [
    "def call():\n",
    "    name = input('tell ur name: ')\n",
    "    print(f'your name is: {name}')\n"
   ]
  },
  {
   "cell_type": "code",
   "execution_count": 2,
   "metadata": {},
   "outputs": [
    {
     "name": "stdout",
     "output_type": "stream",
     "text": [
      "tell ur name: \n",
      "your name is: \n"
     ]
    }
   ],
   "source": [
    "call()"
   ]
  },
  {
   "cell_type": "code",
   "execution_count": 3,
   "metadata": {},
   "outputs": [],
   "source": [
    "def even():\n",
    "    j = input('enter q to quite or any other key to continue: ')\n",
    "    \n",
    "\n",
    "    while(j!='q'):\n",
    "        i = int(input('enter the number: '))\n",
    "        if i%2==0:\n",
    "            print('even')\n",
    "        else:\n",
    "            print('odd')\n",
    "        j = input('enter q to quite or anz other key to continue: ')\n"
   ]
  },
  {
   "cell_type": "code",
   "execution_count": 4,
   "metadata": {},
   "outputs": [
    {
     "name": "stdout",
     "output_type": "stream",
     "text": [
      "enter q to quite or anz other key to continue: q\n"
     ]
    }
   ],
   "source": [
    "even()"
   ]
  },
  {
   "cell_type": "code",
   "execution_count": 18,
   "metadata": {},
   "outputs": [],
   "source": [
    "def even():\n",
    "    while(True):\n",
    "        i = input('enter the number to check or q to quit: ')\n",
    "        if i != 'q':\n",
    "            if int(i)%2==0:\n",
    "                print('even')\n",
    "            else:\n",
    "                print('odd')\n",
    "        else:\n",
    "            break\n"
   ]
  },
  {
   "cell_type": "code",
   "execution_count": 19,
   "metadata": {},
   "outputs": [
    {
     "name": "stdout",
     "output_type": "stream",
     "text": [
      "enter the number to check or q to quit: 6698\n",
      "even\n",
      "enter the number to check or q to quit: 84\n",
      "even\n",
      "enter the number to check or q to quit: 52\n",
      "even\n",
      "enter the number to check or q to quit: 321\n",
      "odd\n",
      "enter the number to check or q to quit: 0\n",
      "even\n",
      "enter the number to check or q to quit: 1\n",
      "odd\n",
      "enter the number to check or q to quit: -4\n",
      "even\n",
      "enter the number to check or q to quit: -1\n",
      "odd\n",
      "enter the number to check or q to quit: q\n"
     ]
    }
   ],
   "source": [
    "even()"
   ]
  },
  {
   "cell_type": "code",
   "execution_count": null,
   "metadata": {},
   "outputs": [],
   "source": []
  }
 ],
 "metadata": {
  "kernelspec": {
   "display_name": "Python 3",
   "language": "python",
   "name": "python3"
  },
  "language_info": {
   "codemirror_mode": {
    "name": "ipython",
    "version": 3
   },
   "file_extension": ".py",
   "mimetype": "text/x-python",
   "name": "python",
   "nbconvert_exporter": "python",
   "pygments_lexer": "ipython3",
   "version": "3.8.5"
  }
 },
 "nbformat": 4,
 "nbformat_minor": 4
}
